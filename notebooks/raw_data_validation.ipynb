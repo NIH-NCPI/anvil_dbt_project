{
 "cells": [
  {
   "cell_type": "markdown",
   "id": "0",
   "metadata": {
    "slideshow": {
     "slide_type": "skip"
    }
   },
   "source": [
    "# Notebook Run Requirements\n",
    "\n",
    "1. The data files and data dictionaries must exist in the /data/{study_id} directory.\n",
    "2. The data files and data dictionaries must be defined in the {study_id}_study.yaml.\n",
    "3. Edit the 'study_id' variable below."
   ]
  },
  {
   "cell_type": "code",
   "execution_count": null,
   "id": "1",
   "metadata": {
    "slideshow": {
     "slide_type": "skip"
    }
   },
   "outputs": [],
   "source": [
    "# Arg otebook arguments\n",
    "study_id = 'cmg_yale'"
   ]
  },
  {
   "cell_type": "code",
   "execution_count": null,
   "id": "2",
   "metadata": {},
   "outputs": [],
   "source": [
    "import pandas as pd\n",
    "from pathlib import Path\n",
    "import sys\n",
    "\n",
    "pd.set_option('display.max_colwidth', None)\n",
    "pd.set_option(\"display.width\", 0)\n",
    "pd.set_option('future.no_silent_downcasting', True)\n",
    "\n",
    "project_root = Path().resolve().parent\n",
    "sys.path.append(str(project_root))\n",
    "from scripts.general import *\n",
    "\n",
    "# Arguments that most likely won't change\n",
    "org_id = 'anvil'\n",
    "dbt_repo = 'anvil_dbt_project'\n",
    "tgt_model_id = 'tgt_consensus_a' # Required by get_all_paths\n",
    "raw_schema = 'main'\n",
    "\n",
    "paths = get_all_paths(study_id, dbt_repo, org_id, tgt_model_id, src_data_path=None)\n",
    "study_config = read_file(paths[\"study_yml_path\"])"
   ]
  },
  {
   "cell_type": "markdown",
   "id": "3",
   "metadata": {
    "slideshow": {
     "slide_type": "skip"
    }
   },
   "source": [
    "# Run Reports"
   ]
  },
  {
   "cell_type": "code",
   "execution_count": null,
   "id": "4",
   "metadata": {
    "slideshow": {
     "slide_type": "skip"
    }
   },
   "outputs": [],
   "source": [
    "# Compile and format the source \n",
    "src_dds_dict = study_config_dds_to_dict(study_config, paths)\n",
    "src_df_names_dict = study_config_df_lists_to_dict(study_config)\n",
    "unioned_dfs_dict = union_tables(src_df_names_dict, paths)"
   ]
  },
  {
   "cell_type": "markdown",
   "id": "5",
   "metadata": {
    "slideshow": {
     "slide_type": "slide"
    }
   },
   "source": [
    "# Enumerations Validation¶\n",
    "- Compares the 'summary data dictionary' defined 'enumerations' with enums from the data files.\n",
    "- All columns, not included. The report only shows where there was not a 100% match between the files.\n",
    "- Enumerations in df_enum_missing_from_dd with red text, define failure. These strings are expected in the ‘dd_enums’.  All other fields help to pinpoint the origin of the error.\n"
   ]
  },
  {
   "cell_type": "code",
   "execution_count": null,
   "id": "6",
   "metadata": {
    "slideshow": {
     "slide_type": "slide"
    }
   },
   "outputs": [],
   "source": [
    "report = enum_report_by_file(src_dds_dict, src_df_names_dict, paths)\n",
    "filtered_report = report[~(report['df_enum_missing_from_dd'].isna()) & ~(report['dd_enum_missing_from_df'].isna())].reset_index(drop=True)\n",
    "styled_report = filtered_report.style.apply(format_not_nulls, axis=1, subset=['df_enum_missing_from_dd', 'dd_enums'])\n",
    "\n",
    "styled_report"
   ]
  },
  {
   "cell_type": "markdown",
   "id": "7",
   "metadata": {
    "slideshow": {
     "slide_type": "slide"
    }
   },
   "source": [
    "# Schema Validation\n",
    "- Ignore the field 'subject.subject_id2'. It was added by the harmonizer for the last pipeline run. The harmonization process will not require this type of dd edit in the future. Please ignore, for now.\n",
    "- Ignore the field 'ingest_provenance'. - It is not in the original dds, it is currently being added by the harmonizer to the dds. The src  field is added to the source data by the TDR automatically. The 'src_data_column' exists for each of the files, it does not show in the characterization report because it is the column that is used to pivot the data(column names). Keeping in the validation for posterity."
   ]
  },
  {
   "cell_type": "code",
   "execution_count": null,
   "id": "8",
   "metadata": {
    "slideshow": {
     "slide_type": "slide"
    }
   },
   "outputs": [],
   "source": [
    "schema_reports_dict = schema_comparison(unioned_dfs_dict,src_dds_dict)\n",
    "\n",
    "for table_name, df in schema_reports_dict.items():\n",
    "    print(f\"\\n\\n\\n\\n Schema validation. Table:{table_name}\")\n",
    "    styled_report = df.style.apply(format_nulls, axis=1, subset=['dd_column'])\n",
    "\n",
    "    display(styled_report)"
   ]
  }
 ],
 "metadata": {
  "celltoolbar": "Slideshow",
  "kernelspec": {
   "display_name": "Python 3.12 (venv)",
   "language": "python",
   "name": "venv-python3.12"
  },
  "language_info": {
   "codemirror_mode": {
    "name": "ipython",
    "version": 3
   },
   "file_extension": ".py",
   "mimetype": "text/x-python",
   "name": "python",
   "nbconvert_exporter": "python",
   "pygments_lexer": "ipython3",
   "version": "3.12.0"
  },
  "toc": {
   "base_numbering": 1,
   "nav_menu": {},
   "number_sections": true,
   "sideBar": true,
   "skip_h1_title": false,
   "title_cell": "Table of Contents",
   "title_sidebar": "Contents",
   "toc_cell": false,
   "toc_position": {},
   "toc_section_display": true,
   "toc_window_display": false
  }
 },
 "nbformat": 4,
 "nbformat_minor": 5
}
